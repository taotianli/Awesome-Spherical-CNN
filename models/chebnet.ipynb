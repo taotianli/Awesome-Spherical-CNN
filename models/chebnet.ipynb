{
 "cells": [
  {
   "cell_type": "code",
   "execution_count": null,
   "metadata": {},
   "outputs": [],
   "source": [
    "import torch\n",
    "import torch.nn as nn\n",
    "import torch.nn.functional as F\n",
    "from torch_geometric.nn import ChebConv\n",
    "\n",
    "class ChebNet(nn.Module):\n",
    "    def __init__(self, in_channels, hidden_channels, out_channels, K):\n",
    "        super(ChebNet, self).__init__()\n",
    "        self.conv1 = ChebConv(in_channels, hidden_channels, K=K)\n",
    "        self.conv2 = ChebConv(hidden_channels, out_channels, K=K)\n",
    "        \n",
    "    def forward(self, data):\n",
    "        x, edge_index = data.x, data.edge_index\n",
    "        \n",
    "        x = F.relu(self.conv1(x, edge_index))\n",
    "        x = F.relu(self.conv2(x, edge_index))\n",
    "        \n",
    "        return F.log_softmax(x, dim=1)"
   ]
  }
 ],
 "metadata": {
  "language_info": {
   "name": "python"
  }
 },
 "nbformat": 4,
 "nbformat_minor": 2
}
