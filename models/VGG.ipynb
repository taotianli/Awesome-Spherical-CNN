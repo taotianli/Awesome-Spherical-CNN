{
 "cells": [
  {
   "cell_type": "code",
   "execution_count": null,
   "metadata": {},
   "outputs": [],
   "source": [
    "#Spherical CNN version\n",
    "class vgg16(nn.Module):\n",
    "    def __init__(self):\n",
    "        super(vgg16, self).__init__()\n",
    "     \n",
    "        neigh_orders = Get_neighs_order()\n",
    "        chs = [3, 32, 64, 128, 256, 512, 1024]\n",
    "        conv_layer = DiNe_conv_layer\n",
    "\n",
    "        sequence = []\n",
    "        sequence.append(conv_layer(chs[0], chs[1], neigh_orders[0]))\n",
    "        sequence.append(nn.BatchNorm1d(chs[1]))\n",
    "        sequence.append(nn.LeakyReLU(0.1, inplace=True))\n",
    "        sequence.append(conv_layer(chs[1], chs[1], neigh_orders[0]))\n",
    "        sequence.append(nn.BatchNorm1d(chs[1]))\n",
    "        sequence.append(nn.LeakyReLU(0.1, inplace=True))\n",
    "        sequence.append(conv_layer(chs[1], chs[1], neigh_orders[0]))\n",
    "        sequence.append(nn.BatchNorm1d(chs[1]))\n",
    "        sequence.append(nn.LeakyReLU(0.1, inplace=True))\n",
    "            \n",
    "        for l in range(1, len(chs)-1):\n",
    "            sequence.append(pool_layer(neigh_orders[l-1], 'mean'))\n",
    "            sequence.append(conv_layer(chs[l], chs[l+1], neigh_orders[l]))\n",
    "            sequence.append(nn.BatchNorm1d(chs[l+1]))\n",
    "            sequence.append(nn.LeakyReLU(0.1, inplace=True))\n",
    "            sequence.append(conv_layer(chs[l+1], chs[l+1], neigh_orders[l]))\n",
    "            sequence.append(nn.BatchNorm1d(chs[l+1]))\n",
    "            sequence.append(nn.LeakyReLU(0.1, inplace=True))\n",
    "\n",
    "        self.model = nn.Sequential(*sequence)    \n",
    "        self.fc =  nn.Sequential(\n",
    "                nn.Linear(chs[-1], 2)\n",
    "                )\n",
    "\n",
    "    def forward(self, x):\n",
    "        x = self.model(x)\n",
    "        x = torch.mean(x, 0, True)\n",
    "        x = self.fc(x)\n",
    "        return x"
   ]
  }
 ],
 "metadata": {
  "language_info": {
   "name": "python"
  }
 },
 "nbformat": 4,
 "nbformat_minor": 2
}
